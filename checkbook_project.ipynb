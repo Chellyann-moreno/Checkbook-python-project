{
 "cells": [
  {
   "cell_type": "code",
   "execution_count": 283,
   "id": "0a60858c-a536-4f24-9010-5cb482d49cbb",
   "metadata": {},
   "outputs": [],
   "source": [
    "bal=126000"
   ]
  },
  {
   "cell_type": "code",
   "execution_count": null,
   "id": "124fe167-2c3a-4862-bbf3-7f73f976ac96",
   "metadata": {},
   "outputs": [],
   "source": []
  },
  {
   "cell_type": "code",
   "execution_count": 268,
   "id": "fdadaae3-360b-4dd1-b9a5-f423d784f885",
   "metadata": {},
   "outputs": [],
   "source": [
    "def Deposit(amount,bal):\n",
    "    return(bal+amount)\n",
    "    current_balance()\n",
    "    \n"
   ]
  },
  {
   "cell_type": "code",
   "execution_count": 269,
   "id": "f3a02e34-3379-470e-b598-51519d3bcc54",
   "metadata": {},
   "outputs": [],
   "source": [
    "def Withdrawal(amount,bal):\n",
    "    return (bal-amount)\n",
    "    current_balance()\n",
    "    "
   ]
  },
  {
   "cell_type": "code",
   "execution_count": 316,
   "id": "a0f18587-825f-4c89-9960-72577f8e69b4",
   "metadata": {},
   "outputs": [],
   "source": [
    "def current_balance(bal):\n",
    "    print(\"Available Balance is:\",bal)\n",
    "    "
   ]
  },
  {
   "cell_type": "code",
   "execution_count": 319,
   "id": "6239e7b5-a3ec-4018-af53-4e1ac851e62d",
   "metadata": {},
   "outputs": [],
   "source": [
    "with open('checkbook_history.txt') as f:\n",
    "            bal=f.read()\n",
    "            bal=int(bal)"
   ]
  },
  {
   "cell_type": "code",
   "execution_count": 323,
   "id": "cac99701-d252-45f9-b413-a0fea3ddc990",
   "metadata": {},
   "outputs": [
    {
     "name": "stdout",
     "output_type": "stream",
     "text": [
      " ~~~~~~~~~ HELLO, WELCOME BACK! ~~~~~~~~~\n",
      "Please Select an option:\n",
      "                        \n",
      "1. View Current Balance\n",
      "2. Make a Withdrawal\n",
      "3. Make a Deposit\n",
      "4. Exit\n"
     ]
    },
    {
     "name": "stdin",
     "output_type": "stream",
     "text": [
      "Choice? 1\n"
     ]
    },
    {
     "name": "stdout",
     "output_type": "stream",
     "text": [
      "Available Balance is: 126000\n",
      "Please Select an option:\n",
      "                        \n",
      "1. View Current Balance\n",
      "2. Make a Withdrawal\n",
      "3. Make a Deposit\n",
      "4. Exit\n"
     ]
    },
    {
     "name": "stdin",
     "output_type": "stream",
     "text": [
      "Choice? 4\n"
     ]
    },
    {
     "name": "stdout",
     "output_type": "stream",
     "text": [
      "THANK YOU, HAVE A GREAT DAY!\n"
     ]
    }
   ],
   "source": [
    "\n",
    "print(\" ~~~~~~~~~ HELLO, WELCOME BACK! ~~~~~~~~~\")\n",
    "while True:\n",
    "    print(\"Please Select an option:\")\n",
    "    print(\"                        \")\n",
    "    print(\"1. View Current Balance\")\n",
    "    print(\"2. Make a Withdrawal\")\n",
    "    print(\"3. Make a Deposit\")\n",
    "    print(\"4. Exit\")\n",
    "    choice=input(\"Choice?\")\n",
    "    \n",
    "    if choice ==\"1\":\n",
    "        current_balance(bal)\n",
    "        \n",
    "    elif choice== \"2\":\n",
    "        \n",
    "        amount=int(input(\"How much would you like to withdraw?\"))\n",
    "        bal=Withdrawal(amount,bal)\n",
    "        current_balance(bal)\n",
    "    elif choice==\"3\":\n",
    "        \n",
    "        amount=int(input(\"How much would you like to deposit?\"))\n",
    "        bal=Deposit(amount,bal)\n",
    "        Deposit(amount,bal)\n",
    "        current_balance(bal)\n",
    "    elif choice==\"4\":\n",
    "        \n",
    "        print(\"THANK YOU, HAVE A GREAT DAY!\")\n",
    "        with open('checkbook_history.txt', 'w') as f:\n",
    "            f.write(str(bal))\n",
    "        break\n",
    "    else: \n",
    "        print(\"PLEASE SELECT OPTIONS 1 THROUGH 4\")\n",
    "        print(\"                       \") "
   ]
  },
  {
   "cell_type": "code",
   "execution_count": 304,
   "id": "33cc6f82-6adf-421c-8549-c605c34124cf",
   "metadata": {},
   "outputs": [
    {
     "data": {
      "text/plain": [
       "126000"
      ]
     },
     "execution_count": 304,
     "metadata": {},
     "output_type": "execute_result"
    }
   ],
   "source": [
    "bal"
   ]
  }
 ],
 "metadata": {
  "kernelspec": {
   "display_name": "Python 3 (ipykernel)",
   "language": "python",
   "name": "python3"
  },
  "language_info": {
   "codemirror_mode": {
    "name": "ipython",
    "version": 3
   },
   "file_extension": ".py",
   "mimetype": "text/x-python",
   "name": "python",
   "nbconvert_exporter": "python",
   "pygments_lexer": "ipython3",
   "version": "3.9.13"
  }
 },
 "nbformat": 4,
 "nbformat_minor": 5
}
